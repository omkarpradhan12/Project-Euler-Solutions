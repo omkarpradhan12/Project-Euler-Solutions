{
 "cells": [
  {
   "attachments": {},
   "cell_type": "markdown",
   "metadata": {},
   "source": [
    "### Question 79"
   ]
  },
  {
   "cell_type": "code",
   "execution_count": 27,
   "metadata": {},
   "outputs": [
    {
     "name": "stdout",
     "output_type": "stream",
     "text": [
      "{'0': {'8', '2', '6', '1', '9'}, '1': {'3', '7'}, '2': {'1', '7', '6'}, '3': {'7'}, '6': {'1', '3', '7'}, '7': set(), '8': {'1', '2', '3', '6'}, '9': {'8', '2', '7', '6', '1'}}\n"
     ]
    },
    {
     "data": {
      "text/plain": [
       "'73162890'"
      ]
     },
     "execution_count": 27,
     "metadata": {},
     "output_type": "execute_result"
    }
   ],
   "source": [
    "'''\n",
    "\"A common security method used for online banking is to ask the user for three random characters from a passcode. For example, if the passcode was 531278, they may ask for the 2nd, 3rd, and 5th characters; the expected reply would be: 317.\n",
    "The text file, keylog.txt, contains fifty successful login attempts.\n",
    "Given that the three characters are always asked for in order, analyse the file so as to determine the shortest possible secret passcode of unknown length.\"\n",
    "'''\n",
    "\n",
    "kls= \"\"\n",
    "with open('./p079_keylog.txt') as keylogged:\n",
    "    kls = keylogged.read().split()\n",
    "\n",
    "kls = list(set(kls))\n",
    "\n",
    "\n",
    "def all_numbers(alist):\n",
    "    nums = set()\n",
    "    for x in alist:\n",
    "        for y in x:\n",
    "            nums.add(y)\n",
    "    return list(nums)\n",
    "\n",
    "def finder(kls):\n",
    "    possible_numbers = sorted(all_numbers(kls))\n",
    "    mydict = {}\n",
    "    for x in possible_numbers:\n",
    "        mydict[x] = set()\n",
    "    for key in kls:\n",
    "        mydict[key[2]].add(key[1])\n",
    "        mydict[key[1]].add(key[0])\n",
    "    print(mydict)\n",
    "    passcode = \"\"\n",
    "    while len(possible_numbers) != 0:\n",
    "        for x in possible_numbers:\n",
    "            if len(mydict[x]) == 0:\n",
    "                passcode += str(x)\n",
    "                possible_numbers.remove(x)\n",
    "                del mydict[x]\n",
    "                break\n",
    "        for y in possible_numbers:\n",
    "            try:\n",
    "                mydict[y].remove(x)\n",
    "            except KeyError:\n",
    "                pass\n",
    "    return passcode\n",
    "\n",
    "finder(kls)\n",
    "\n"
   ]
  },
  {
   "attachments": {},
   "cell_type": "markdown",
   "metadata": {},
   "source": [
    "### Question 80"
   ]
  },
  {
   "cell_type": "code",
   "execution_count": 39,
   "metadata": {},
   "outputs": [
    {
     "data": {
      "text/plain": [
       "40887"
      ]
     },
     "execution_count": 39,
     "metadata": {},
     "output_type": "execute_result"
    }
   ],
   "source": [
    "'''\n",
    "\"It is well known that if the square root of a natural number is not an integer, then it is irrational. The decimal expansion of such square roots is infinite without any repeating pattern at all.\n",
    "The square root of two is 1.41421356237309504880..., and the digital sum of the first one hundred decimal digits is 475.\n",
    "For the first one hundred natural numbers, find the total of the digital sums of the first one hundred decimal digits for all the irrational square roots.\"\n",
    "'''\n",
    "\n",
    "from decimal import *\n",
    "getcontext().prec = 101\n",
    "\n",
    "finsum = 0 \n",
    "for i in range(1,101):\n",
    "    sqt = i**0.5\n",
    "    if not sqt.is_integer():\n",
    "        sqt = sum([int(x) for x in str(Decimal(i).sqrt()).replace(\".\",\"\")][0:100])\n",
    "        finsum+=sqt\n",
    "\n",
    "print(\"Final Digital Sum : \",finsum)"
   ]
  },
  {
   "attachments": {},
   "cell_type": "markdown",
   "metadata": {},
   "source": [
    "### Question 85"
   ]
  },
  {
   "cell_type": "code",
   "execution_count": 43,
   "metadata": {},
   "outputs": [
    {
     "name": "stdout",
     "output_type": "stream",
     "text": [
      "Result: [36]x[77] with area of 2772\n"
     ]
    }
   ],
   "source": [
    "'''\"By counting carefully it can be seen that a rectangular grid measuring 3 by 2 contains eighteen rectangles:\n",
    "Although there exists no rectangular grid that contains exactly two million rectangles, find the area of the grid with the nearest solution.\"\n",
    "'''\n",
    "import math\n",
    "\n",
    "def computeRectangles(row, col):  \n",
    "  total = 0  \n",
    "  for r in range(1, row + 1):  \n",
    "    for c in range(1, col + 1):  \n",
    "      total += (row - r + 1) * (col - c + 1)  \n",
    "  return total\n",
    "\n",
    "smallestDiff = 2000000  \n",
    "area = -1  \n",
    "finalRow = -1  \n",
    "finalCol = -1  \n",
    "for row in range(1,101):  \n",
    "  for col in range(1,101):  \n",
    "    rectangles = computeRectangles(row, col)  \n",
    "    diff = math.fabs(rectangles - 2000000)  \n",
    "    if (diff < smallestDiff):  \n",
    "      area = row * col  \n",
    "      smallestDiff = diff  \n",
    "      finalRow = row  \n",
    "      finalCol = col  \n",
    "print (\"Result: [%s]x[%s] with area of %s\" %(finalRow, finalCol, area))\n",
    "\n"
   ]
  },
  {
   "cell_type": "code",
   "execution_count": null,
   "metadata": {},
   "outputs": [],
   "source": []
  }
 ],
 "metadata": {
  "kernelspec": {
   "display_name": "Python 3",
   "language": "python",
   "name": "python3"
  },
  "language_info": {
   "codemirror_mode": {
    "name": "ipython",
    "version": 3
   },
   "file_extension": ".py",
   "mimetype": "text/x-python",
   "name": "python",
   "nbconvert_exporter": "python",
   "pygments_lexer": "ipython3",
   "version": "3.10.2"
  },
  "orig_nbformat": 4,
  "vscode": {
   "interpreter": {
    "hash": "369f2c481f4da34e4445cda3fffd2e751bd1c4d706f27375911949ba6bb62e1c"
   }
  }
 },
 "nbformat": 4,
 "nbformat_minor": 2
}
