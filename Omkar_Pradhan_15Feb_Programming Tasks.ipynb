{
 "cells": [
  {
   "attachments": {},
   "cell_type": "markdown",
   "metadata": {},
   "source": [
    "### Question 87"
   ]
  },
  {
   "cell_type": "code",
   "execution_count": 97,
   "metadata": {},
   "outputs": [
    {
     "name": "stdout",
     "output_type": "stream",
     "text": [
      "1097343\n"
     ]
    }
   ],
   "source": [
    "'''\n",
    "\"The smallest number expressible as the sum of a prime square, prime cube, and prime fourth power is 28. In fact, there are exactly four numbers below fifty that can be expressed in such a way:\n",
    "28 = 22 + 23 + 24\n",
    "33 = 32 + 23 + 24\n",
    "49 = 52 + 23 + 24\n",
    "47 = 22 + 33 + 24\n",
    "How many numbers below fifty million can be expressed as the sum of a prime square, prime cube, and prime fourth power?\"\n",
    "'''\n",
    "from math import floor\n",
    "from sympy import primerange\n",
    "from itertools import product\n",
    "\n",
    "def plis_gen(num):\n",
    "    powe2 = list(primerange(1,floor(num**(1/2))+1))\n",
    "    \n",
    "    powe3 = list(primerange(1,floor(num**(1/3))+1))\n",
    "    \n",
    "    powe4 = list(primerange(1,floor(num**(1/4))+1))\n",
    "\n",
    "    return [powe2,powe3,powe4]\n",
    "\n",
    "def combi_checker(prime_list):\n",
    "    return list(product(*prime_list))\n",
    "\n",
    "def check_sq_cb_fr(prime_combi_list):\n",
    "    p_sum_list = []\n",
    "    for i in prime_combi_list:\n",
    "        p_sum_list.append(i[0]**2 + i[1]**3 + i[2]**4)\n",
    "    return list(set(p_sum_list))\n",
    "\n",
    "\n",
    "cnt=0\n",
    "for i in check_sq_cb_fr(combi_checker(plis_gen(50000000))):\n",
    "    if i<50000000:\n",
    "        cnt+=1\n",
    "print(cnt)"
   ]
  },
  {
   "attachments": {},
   "cell_type": "markdown",
   "metadata": {},
   "source": [
    "### Question 89"
   ]
  },
  {
   "cell_type": "code",
   "execution_count": 129,
   "metadata": {},
   "outputs": [
    {
     "name": "stdout",
     "output_type": "stream",
     "text": [
      "743\n"
     ]
    }
   ],
   "source": [
    "'''\n",
    "\"For a number written in Roman numerals to be considered valid there are basic rules which must be followed. Even though the rules allow some numbers to be expressed in more than one way there is always a \"\"best\"\" way of writing a particular number.\n",
    "For example, it would appear that there are at least six ways of writing the number sixteen:\n",
    "IIIIIIIIIIIIIIII\n",
    "VIIIIIIIIIII\n",
    "VVIIIIII\n",
    "XIIIIII\n",
    "VVVI\n",
    "XVI\n",
    "However, according to the rules only XIIIIII and XVI are valid, and the last example is considered to be the most efficient, as it uses the least number of numerals.\n",
    "The 11K text file, roman.txt (right click and 'Save Link/Target As...'), contains one thousand numbers written in valid, but not necessarily minimal, Roman numerals; see About... Roman Numerals for the definitive rules for this problem.\n",
    "Find the number of characters saved by writing each of these in their minimal form.\n",
    "Note: You can assume that all the Roman numerals in the file contain no more than four consecutive identical units.\"\n",
    "'''\n",
    "def subtractive(roman):\n",
    "    result = roman\n",
    "    replacements = [\n",
    "        (\"VIIII\", \"IX\"), \n",
    "        (\"IIII\", \"IV\"), \n",
    "        (\"LXXXX\", \"XC\"), \n",
    "        (\"XXXX\", \"XL\"),\n",
    "        (\"DCCCC\", \"CM\"), \n",
    "        (\"CCCC\", \"CD\"),\n",
    "    ]\n",
    "    for old, new in replacements:\n",
    "        result = result.replace(old, new)\n",
    "    return result\n",
    "\n",
    "current = 0\n",
    "improved = 0\n",
    "for line in open('./p089_roman.txt'):\n",
    "    roman = line.strip()\n",
    "    current += len(roman)\n",
    "    improved += len(subtractive(roman))\n",
    "print(current - improved)\n",
    "    "
   ]
  },
  {
   "attachments": {},
   "cell_type": "markdown",
   "metadata": {},
   "source": [
    "### Question 90"
   ]
  },
  {
   "cell_type": "code",
   "execution_count": 231,
   "metadata": {},
   "outputs": [
    {
     "name": "stdout",
     "output_type": "stream",
     "text": [
      "1217\n"
     ]
    }
   ],
   "source": [
    "'''\"Each of the six faces on a cube has a different digit (0 to 9) written on it; the same is done to a second cube. By placing the two cubes side-by-side in different positions we can form a variety of 2-digit numbers.\n",
    "For example, the square number 64 could be formed:\n",
    "\n",
    "In fact, by carefully choosing the digits on both cubes it is possible to display all of the square numbers below one-hundred: 01, 04, 09, 16, 25, 36, 49, 64, and 81.\n",
    "For example, one way this can be achieved is by placing {0, 5, 6, 7, 8, 9} on one cube and {1, 2, 3, 4, 8, 9} on the other cube.\n",
    "However, for this problem we shall allow the 6 or 9 to be turned upside-down so that an arrangement like {0, 5, 6, 7, 8, 9} and {1, 2, 3, 4, 6, 7} allows for all nine square numbers to be displayed; otherwise it would be impossible to obtain 09.\n",
    "In determining a distinct arrangement we are interested in the digits on each cube, not the order.\n",
    "{1, 2, 3, 4, 5, 6} is equivalent to {3, 6, 4, 1, 2, 5}\n",
    "{1, 2, 3, 4, 5, 6} is distinct from {1, 2, 3, 4, 5, 9}\n",
    "But because we are allowing 6 and 9 to be reversed, the two distinct sets in the last example both represent the extended set {1, 2, 3, 4, 5, 6, 9} for the purpose of forming 2-digit numbers.\n",
    "How many distinct arrangements of the two cubes allow for all of the square numbers to be displayed?\"\n",
    "'''\n",
    "\n",
    "def dicecomb(): #Produces all dice combinations, there are 10 C 6 = 210\n",
    "    dicecombs = set()\n",
    "    for a in range(0,10):\n",
    "        for b in range(0,9):\n",
    "            for c in range(0,8):\n",
    "                for d in range(0,7):\n",
    "                    for e in range(0,6):\n",
    "                        for f in range(0,5):\n",
    "                            if len(set([a,b,c,d,e,f])) == 6:\n",
    "                                dicecombs.add(tuple(sorted((a,b,c,d,e,f))))\n",
    "    return list(dicecombs)\n",
    "\n",
    "def valid_dice_pair(dice1, dice2):\n",
    "    #Dice 1 and Dice 2 are both tuples\n",
    "    square_numbers = [(0,1), (0,4), (0,9), (1,6), (2,5), (3,6), (4,9), (6,4), (8,1)]\n",
    "    squares_generated = set()\n",
    "    for x in dice1:\n",
    "        for y in dice2:\n",
    "            if x == 6 or x == 9:\n",
    "                squares_generated.add((6,y))\n",
    "                squares_generated.add((9,y))\n",
    "                squares_generated.add((y,9))\n",
    "                squares_generated.add((y,6))\n",
    "            elif y == 6 or y == 9:\n",
    "                squares_generated.add((6,x))\n",
    "                squares_generated.add((9,x))\n",
    "                squares_generated.add((x,9))\n",
    "                squares_generated.add((x,6))     \n",
    "            else:\n",
    "                squares_generated.add((x,y))\n",
    "                squares_generated.add((y,x))\n",
    "    for x in square_numbers:\n",
    "        if x not in squares_generated:\n",
    "            return False \n",
    "    return True\n",
    "\n",
    "\n",
    "dice = dicecomb()\n",
    "count = 0\n",
    "for x in range(len(dice)):\n",
    "    for y in range(x+1,len(dice)):\n",
    "        if valid_dice_pair(dice[x], dice[y]):\n",
    "            count += 1\n",
    "print(count)"
   ]
  },
  {
   "cell_type": "code",
   "execution_count": null,
   "metadata": {},
   "outputs": [],
   "source": []
  }
 ],
 "metadata": {
  "kernelspec": {
   "display_name": "Python 3",
   "language": "python",
   "name": "python3"
  },
  "language_info": {
   "codemirror_mode": {
    "name": "ipython",
    "version": 3
   },
   "file_extension": ".py",
   "mimetype": "text/x-python",
   "name": "python",
   "nbconvert_exporter": "python",
   "pygments_lexer": "ipython3",
   "version": "3.10.2"
  },
  "orig_nbformat": 4,
  "vscode": {
   "interpreter": {
    "hash": "369f2c481f4da34e4445cda3fffd2e751bd1c4d706f27375911949ba6bb62e1c"
   }
  }
 },
 "nbformat": 4,
 "nbformat_minor": 2
}
