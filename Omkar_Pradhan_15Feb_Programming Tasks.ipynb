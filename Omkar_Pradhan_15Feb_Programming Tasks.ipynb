{
 "cells": [
  {
   "attachments": {},
   "cell_type": "markdown",
   "metadata": {},
   "source": [
    "### Question 87"
   ]
  },
  {
   "cell_type": "code",
   "execution_count": 97,
   "metadata": {},
   "outputs": [
    {
     "name": "stdout",
     "output_type": "stream",
     "text": [
      "1097343\n"
     ]
    }
   ],
   "source": [
    "'''\n",
    "\"The smallest number expressible as the sum of a prime square, prime cube, and prime fourth power is 28. In fact, there are exactly four numbers below fifty that can be expressed in such a way:\n",
    "28 = 22 + 23 + 24\n",
    "33 = 32 + 23 + 24\n",
    "49 = 52 + 23 + 24\n",
    "47 = 22 + 33 + 24\n",
    "How many numbers below fifty million can be expressed as the sum of a prime square, prime cube, and prime fourth power?\"\n",
    "'''\n",
    "from math import floor\n",
    "from sympy import primerange\n",
    "from itertools import product\n",
    "\n",
    "def plis_gen(num):\n",
    "    powe2 = list(primerange(1,floor(num**(1/2))+1))\n",
    "    \n",
    "    powe3 = list(primerange(1,floor(num**(1/3))+1))\n",
    "    \n",
    "    powe4 = list(primerange(1,floor(num**(1/4))+1))\n",
    "\n",
    "    return [powe2,powe3,powe4]\n",
    "\n",
    "def combi_checker(prime_list):\n",
    "    return list(product(*prime_list))\n",
    "\n",
    "def check_sq_cb_fr(prime_combi_list):\n",
    "    p_sum_list = []\n",
    "    for i in prime_combi_list:\n",
    "        p_sum_list.append(i[0]**2 + i[1]**3 + i[2]**4)\n",
    "    return list(set(p_sum_list))\n",
    "\n",
    "\n",
    "cnt=0\n",
    "for i in check_sq_cb_fr(combi_checker(plis_gen(50000000))):\n",
    "    if i<50000000:\n",
    "        cnt+=1\n",
    "print(cnt)"
   ]
  },
  {
   "cell_type": "code",
   "execution_count": null,
   "metadata": {},
   "outputs": [],
   "source": []
  }
 ],
 "metadata": {
  "kernelspec": {
   "display_name": "Python 3",
   "language": "python",
   "name": "python3"
  },
  "language_info": {
   "codemirror_mode": {
    "name": "ipython",
    "version": 3
   },
   "file_extension": ".py",
   "mimetype": "text/x-python",
   "name": "python",
   "nbconvert_exporter": "python",
   "pygments_lexer": "ipython3",
   "version": "3.10.2"
  },
  "orig_nbformat": 4,
  "vscode": {
   "interpreter": {
    "hash": "369f2c481f4da34e4445cda3fffd2e751bd1c4d706f27375911949ba6bb62e1c"
   }
  }
 },
 "nbformat": 4,
 "nbformat_minor": 2
}
