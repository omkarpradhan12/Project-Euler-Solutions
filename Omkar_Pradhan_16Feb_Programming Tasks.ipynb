{
 "cells": [
  {
   "attachments": {},
   "cell_type": "markdown",
   "metadata": {},
   "source": [
    "### Question 91"
   ]
  },
  {
   "cell_type": "code",
   "execution_count": 52,
   "metadata": {},
   "outputs": [
    {
     "name": "stdout",
     "output_type": "stream",
     "text": [
      "10847\n"
     ]
    }
   ],
   "source": [
    "'''\n",
    "\"The points P (x1, y1) and Q (x2, y2) are plotted at integer co-ordinates and are joined to the origin, O(0,0), to form ΔOPQ.\n",
    "\n",
    "There are exactly fourteen triangles containing a right angle that can be formed when each co-ordinate lies between 0 and 2 inclusive; that is,\n",
    "0 ≤ x1, y1, x2, y2 ≤ 2.\n",
    "\n",
    "Given that 0 ≤ x1, y1, x2, y2 ≤ 50, how many right triangles can be formed?\"\n",
    "'''\n",
    "\n",
    "from itertools import product,combinations\n",
    "import math\n",
    "\n",
    "O = [(0,0)]\n",
    "P = []\n",
    "for i in range(51):\n",
    "    for j in range(51):\n",
    "        P.append((i,j))\n",
    "P\n",
    "\n",
    "Q = []\n",
    "for i in range(51):\n",
    "    for j in range(51):\n",
    "        Q.append((i,j))\n",
    "Q\n",
    "\n",
    "points = list(product(*[O,P,Q]))\n",
    "\n",
    "\n",
    "points = [x for x in points if len(set(x))==3]\n",
    "\n",
    "p_set = set()\n",
    "\n",
    "for i in points:\n",
    "    p_set.add(tuple(sorted(i)))\n",
    "\n",
    "p_set = list(p_set)\n",
    "\n",
    "def line_maker(points):\n",
    "    lines = set()\n",
    "    for i in combinations(points,2):\n",
    "        lines.add(i)\n",
    "    \n",
    "    dist = []\n",
    "    for i in lines:\n",
    "        x1 = i[0][0]\n",
    "        x2 = i[1][0]\n",
    "        y1 = i[0][1]\n",
    "        y2 = i[1][1]\n",
    "        dist.append(math.dist([x1,y1],[x2,y2]))\n",
    "    \n",
    "    return sorted(dist)\n",
    "\n",
    "lines = [line_maker(i) for i in p_set]\n",
    "\n",
    "cnt = 0\n",
    "for i in lines:\n",
    "     if (int(i[0]**2 + i[1]**2) == int(i[2]**2)):\n",
    "         cnt+=1\n",
    "print(cnt)"
   ]
  },
  {
   "attachments": {},
   "cell_type": "markdown",
   "metadata": {},
   "source": [
    "### Question 92"
   ]
  },
  {
   "cell_type": "code",
   "execution_count": 67,
   "metadata": {},
   "outputs": [
    {
     "name": "stderr",
     "output_type": "stream",
     "text": [
      "100%|██████████| 9999999/9999999 [02:25<00:00, 68634.11it/s]"
     ]
    },
    {
     "name": "stdout",
     "output_type": "stream",
     "text": [
      "4006299\n"
     ]
    },
    {
     "name": "stderr",
     "output_type": "stream",
     "text": [
      "\n"
     ]
    }
   ],
   "source": [
    "'''\n",
    "\"A number chain is created by continuously adding the square of the digits in a number to form a new number until it has been seen before.\n",
    "For example,\n",
    "44 → 32 → 13 → 10 → 1 → 1\n",
    "85 → 89 → 145 → 42 → 20 → 4 → 16 → 37 → 58 → 89\n",
    "Therefore any chain that arrives at 1 or 89 will become stuck in an endless loop. What is most amazing is that EVERY starting number will eventually arrive at 1 or 89.\n",
    "How many starting numbers below ten million will arrive at 89?\"\n",
    "'''\n",
    "from tqdm import tqdm\n",
    "\n",
    "def num_chain(num):\n",
    "    chain = []+[num]\n",
    "    while True:\n",
    "        sq_digits = sum([(int(x))**2 for x in str(num)])\n",
    "        if sq_digits in chain:\n",
    "            chain.append(sq_digits)\n",
    "            return chain\n",
    "        if sq_digits not in chain:\n",
    "            chain.append(sq_digits)\n",
    "            num = sq_digits\n",
    "    return chain\n",
    "\n",
    "cnt=0\n",
    "for i in tqdm(range(1,10000000)):\n",
    "    if num_chain(i)[-1]==89:\n",
    "        cnt+=1\n",
    "print(cnt)\n",
    "        "
   ]
  },
  {
   "cell_type": "code",
   "execution_count": null,
   "metadata": {},
   "outputs": [],
   "source": []
  }
 ],
 "metadata": {
  "kernelspec": {
   "display_name": "Python 3",
   "language": "python",
   "name": "python3"
  },
  "language_info": {
   "codemirror_mode": {
    "name": "ipython",
    "version": 3
   },
   "file_extension": ".py",
   "mimetype": "text/x-python",
   "name": "python",
   "nbconvert_exporter": "python",
   "pygments_lexer": "ipython3",
   "version": "3.10.2"
  },
  "orig_nbformat": 4,
  "vscode": {
   "interpreter": {
    "hash": "369f2c481f4da34e4445cda3fffd2e751bd1c4d706f27375911949ba6bb62e1c"
   }
  }
 },
 "nbformat": 4,
 "nbformat_minor": 2
}
