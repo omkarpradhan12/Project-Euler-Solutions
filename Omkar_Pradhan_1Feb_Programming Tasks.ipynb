{
 "cells": [
  {
   "cell_type": "markdown",
   "metadata": {},
   "source": [
    "### Question 35"
   ]
  },
  {
   "cell_type": "code",
   "execution_count": 74,
   "metadata": {},
   "outputs": [
    {
     "name": "stdout",
     "output_type": "stream",
     "text": [
      "2\n",
      "3\n",
      "5\n",
      "7\n",
      "11\n",
      "13\n",
      "17\n",
      "31\n",
      "37\n",
      "71\n",
      "73\n",
      "79\n",
      "97\n",
      "113\n",
      "131\n",
      "197\n",
      "199\n",
      "311\n",
      "337\n",
      "373\n",
      "719\n",
      "733\n",
      "919\n",
      "971\n",
      "991\n",
      "1193\n",
      "1931\n",
      "3119\n",
      "3779\n",
      "7793\n",
      "7937\n",
      "9311\n",
      "9377\n",
      "11939\n",
      "19391\n",
      "19937\n",
      "37199\n",
      "39119\n",
      "71993\n",
      "91193\n",
      "93719\n",
      "93911\n",
      "99371\n",
      "193939\n",
      "199933\n",
      "319993\n",
      "331999\n",
      "391939\n",
      "393919\n",
      "919393\n",
      "933199\n",
      "939193\n",
      "939391\n",
      "993319\n",
      "999331\n",
      "count :  55\n"
     ]
    }
   ],
   "source": [
    "'''\n",
    "\"The number, 197, is called a circular prime because all rotations of the digits: 197, 971, and 719, are themselves prime.\n",
    "There are thirteen such primes below 100: 2, 3, 5, 7, 11, 13, 17, 31, 37, 71, 73, 79, and 97.\n",
    "How many circular primes are there below one million?\"\n",
    "'''\n",
    "def is_prime(n):\n",
    "    for i in range(2,int(n**0.5)+1):\n",
    "        if n%i==0:\n",
    "            return False\n",
    "    return True\n",
    "\n",
    "def shifter(n):\n",
    "    l = [s for s in str(n)]\n",
    "    rots = []\n",
    "    for i in range(len(l)):\n",
    "        e1=l[len(l)-1]\n",
    "        for j in range(len(l)-1,0,-1):\n",
    "            l[j]=l[j-1]\n",
    "        l[0] = e1\n",
    "            \n",
    "        rots.append(\"\".join(l))\n",
    "    return [int(r) for r in rots]\n",
    "\n",
    "\n",
    "def cyclic_checker(n):\n",
    "    for rot in shifter(n):\n",
    "        if not is_prime(rot):\n",
    "            return False\n",
    "    return True\n",
    "\n",
    "cnt=0 \n",
    "for i in range(2,1000000):\n",
    "    if is_prime(i):\n",
    "        if cyclic_checker(i):\n",
    "            cnt+=1\n",
    "            print(i)\n",
    "print(\"count : \",cnt)"
   ]
  },
  {
   "attachments": {},
   "cell_type": "markdown",
   "metadata": {},
   "source": [
    "### Question 36"
   ]
  },
  {
   "cell_type": "code",
   "execution_count": 100,
   "metadata": {},
   "outputs": [
    {
     "name": "stdout",
     "output_type": "stream",
     "text": [
      "0 0\n",
      "1 1\n",
      "3 11\n",
      "5 101\n",
      "7 111\n",
      "9 1001\n",
      "33 100001\n",
      "99 1100011\n",
      "313 100111001\n",
      "585 1001001001\n",
      "717 1011001101\n",
      "7447 1110100010111\n",
      "9009 10001100110001\n",
      "15351 11101111110111\n",
      "32223 111110111011111\n",
      "39993 1001110000111001\n",
      "53235 1100111111110011\n",
      "53835 1101001001001011\n",
      "73737 10010000000001001\n",
      "585585 10001110111101110001\n",
      "sum_palindromic :  872187\n"
     ]
    }
   ],
   "source": [
    "'''\n",
    "\"The decimal number, 585 = 10010010012 (binary), is palindromic in both bases.\n",
    "Find the sum of all numbers, less than one million, which are palindromic in base 10 and base 2.\n",
    "(Please note that the palindromic number, in either base, may not include leading zeros.)\"\n",
    "'''\n",
    "\n",
    "def is_palindromic(n):\n",
    "    if str(n)==str(n)[::-1]:\n",
    "        return True\n",
    "    return False\n",
    "\n",
    "def num_to_binary(num):\n",
    "    return \"{0:b}\".format(int(num))\n",
    "\n",
    "\n",
    "sum_palindromic = 0\n",
    "for i in range(0,1000001):\n",
    "    if is_palindromic(i):\n",
    "        if is_palindromic(num_to_binary(i)):\n",
    "            sum_palindromic+=i\n",
    "            print(i,num_to_binary(i))\n",
    "\n",
    "print(\"sum_palindromic : \",sum_palindromic)"
   ]
  },
  {
   "attachments": {},
   "cell_type": "markdown",
   "metadata": {},
   "source": [
    "### Question 37"
   ]
  },
  {
   "cell_type": "code",
   "execution_count": 2,
   "metadata": {},
   "outputs": [
    {
     "name": "stdout",
     "output_type": "stream",
     "text": [
      "23\n",
      "37\n",
      "53\n",
      "73\n",
      "313\n",
      "317\n",
      "373\n",
      "797\n",
      "3137\n",
      "3797\n",
      "739397\n",
      "748317\n"
     ]
    }
   ],
   "source": [
    "'''\n",
    "\"The number 3797 has an interesting property. Being prime itself, it is possible to continuously remove digits from left to right, and remain prime at each stage: 3797, 797, 97, and 7.\n",
    "Similarly we can work from right to left: 3797, 379, 37, and 3.\n",
    "Find the sum of the only eleven primes that are both truncatable from left to right and right to left.\n",
    "NOTE: 2, 3, 5, and 7 are not considered to be truncatable primes.\"\n",
    "'''\n",
    "\n",
    "def trunc_numbers(num):\n",
    "    lx = []\n",
    "    rx = []\n",
    "    for i in range(1,len(str(num))):\n",
    "        lx.append(num//int(\"1\"+('0'*i)))\n",
    "        rx.append(num%int(\"1\"+('0'*i)))\n",
    "    return [lx,rx]\n",
    "\n",
    "def is_trunc_prime(x):\n",
    "    for t in x:\n",
    "        #print(t)\n",
    "        if not is_prime(t):\n",
    "            return False\n",
    "    return True\n",
    "\n",
    "\n",
    "def is_prime(num):\n",
    "    if num==1 or num==0:\n",
    "        return False\n",
    "    for i in range(2,int(num**0.5)+1):\n",
    "        if num%i==0:\n",
    "            return False\n",
    "    return True\n",
    "\n",
    "def is_truncable_prime(num):\n",
    "    if is_prime(num):\n",
    "        if (is_trunc_prime(trunc_numbers(num)[0])==True and is_trunc_prime(trunc_numbers(num)[1])==True):\n",
    "            return True\n",
    "    return False\n",
    "\n",
    "#print(trunc_numbers(3797))\n",
    "\n",
    "truncatable_primes = 0\n",
    "i=10\n",
    "trunc_sum = 0\n",
    "\n",
    "is_truncable_prime(213)\n",
    "while(truncatable_primes<11):\n",
    "    i+=1\n",
    "    if is_truncable_prime(i):\n",
    "        truncatable_primes+=1\n",
    "        print(i)\n",
    "        trunc_sum+=i\n",
    "print(trunc_sum)"
   ]
  },
  {
   "attachments": {},
   "cell_type": "markdown",
   "metadata": {},
   "source": [
    "### Question 38"
   ]
  },
  {
   "cell_type": "code",
   "execution_count": 4,
   "metadata": {},
   "outputs": [
    {
     "name": "stdout",
     "output_type": "stream",
     "text": [
      "932718654 3 9999\n"
     ]
    }
   ],
   "source": [
    "'''\"Take the number 192 and multiply it by each of 1, 2, and 3:\n",
    "192 × 1 = 192\n",
    "192 × 2 = 384\n",
    "192 × 3 = 576\n",
    "By concatenating each product we get the 1 to 9 pandigital, 192384576. We will call 192384576 the concatenated product of 192 and (1,2,3)\n",
    "The same can be achieved by starting with 9 and multiplying by 1, 2, 3, 4, and 5, giving the pandigital, 918273645, which is the concatenated product of 9 and (1,2,3,4,5).\n",
    "What is the largest 1 to 9 pandigital 9-digit number that can be formed as the concatenated product of an integer with (1,2, ... , n) where n > 1?\"\n",
    "'''\n",
    "l_prod = 0\n",
    "\n",
    "for i in range(0,10000):\n",
    "    prod = ''\n",
    "    inner_i = 1\n",
    "    while(len(prod)<9):\n",
    "        prod += str(i*inner_i)\n",
    "        inner_i+=1\n",
    "    if((len(prod)==9) and (len(set(prod))==9) and ('0' not in prod)):\n",
    "        if int(prod)>l_prod:\n",
    "            l_prod = int(prod)\n",
    "print(l_prod,inner_i,i)"
   ]
  },
  {
   "attachments": {},
   "cell_type": "markdown",
   "metadata": {},
   "source": [
    "### Question 39"
   ]
  },
  {
   "cell_type": "code",
   "execution_count": 2,
   "metadata": {},
   "outputs": [
    {
     "name": "stdout",
     "output_type": "stream",
     "text": [
      "840 8\n"
     ]
    }
   ],
   "source": [
    "'''\n",
    "\"If p is the perimeter of a right angle triangle with integral length sides, {a,b,c}, there are exactly three solutions for p = 120.\n",
    "{20,48,52}, {24,45,51}, {30,40,50}\n",
    "For which value of p ≤ 1000, is the number of solutions maximised?\"\n",
    "'''\n",
    "\n",
    "def right_tri(n):\n",
    "    possible_trips = []\n",
    "    for i in range(1,n-2):\n",
    "        for j in range(1,n-i):\n",
    "            if sum([i,n-i-j,j])==n:\n",
    "                if i<(n-i-j):\n",
    "                    if (n-i-j)<j:\n",
    "                        possible_trips.append((i,n-i-j,j))\n",
    "    \n",
    "    right_triangle = []\n",
    "    for i in possible_trips:\n",
    "        a = i[0]\n",
    "        b = i[1]\n",
    "        c = i[2]\n",
    "        if (a**2 + b**2)==c**2:\n",
    "            right_triangle.append([a,b,c])\n",
    "    return right_triangle\n",
    "    \n",
    "\n",
    "max_p = 0\n",
    "method_count = 0\n",
    "\n",
    "for p in range(1001):\n",
    "    rt = right_tri(p)\n",
    "    if len(rt)>method_count:\n",
    "        max_p=p\n",
    "        method_count=len(rt)\n",
    "\n",
    "print(max_p,method_count)\n",
    "\n"
   ]
  },
  {
   "cell_type": "code",
   "execution_count": null,
   "metadata": {},
   "outputs": [],
   "source": []
  }
 ],
 "metadata": {
  "kernelspec": {
   "display_name": "Python 3",
   "language": "python",
   "name": "python3"
  },
  "language_info": {
   "codemirror_mode": {
    "name": "ipython",
    "version": 3
   },
   "file_extension": ".py",
   "mimetype": "text/x-python",
   "name": "python",
   "nbconvert_exporter": "python",
   "pygments_lexer": "ipython3",
   "version": "3.10.2 (tags/v3.10.2:a58ebcc, Jan 17 2022, 14:12:15) [MSC v.1929 64 bit (AMD64)]"
  },
  "orig_nbformat": 4,
  "vscode": {
   "interpreter": {
    "hash": "369f2c481f4da34e4445cda3fffd2e751bd1c4d706f27375911949ba6bb62e1c"
   }
  }
 },
 "nbformat": 4,
 "nbformat_minor": 2
}
