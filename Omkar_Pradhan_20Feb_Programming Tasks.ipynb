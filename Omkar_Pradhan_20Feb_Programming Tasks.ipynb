{
 "cells": [
  {
   "attachments": {},
   "cell_type": "markdown",
   "metadata": {},
   "source": [
    "### Question 93"
   ]
  },
  {
   "cell_type": "code",
   "execution_count": 2,
   "metadata": {},
   "outputs": [
    {
     "name": "stdout",
     "output_type": "stream",
     "text": [
      "1258\n"
     ]
    }
   ],
   "source": [
    "'''\"By using each of the digits from the set, {1, 2, 3, 4}, exactly once, and making use of the four arithmetic operations (+, −, *, /) and brackets/parentheses, it is possible to form different positive integer targets.\n",
    "For example,\n",
    "8 = (4 * (1 + 3)) / 2\n",
    "14 = 4 * (3 + 1 / 2)\n",
    "19 = 4 * (2 + 3) − 1\n",
    "36 = 3 * 4 * (2 + 1)\n",
    "Note that concatenations of the digits, like 12 + 34, are not allowed.\n",
    "Using the set, {1, 2, 3, 4}, it is possible to obtain thirty-one different target numbers of which 36 is the maximum, and each of the numbers 1 to 28 can be obtained before encountering the first non-expressible number.\n",
    "Find the set of four distinct digits, a < b < c < d, for which the longest set of consecutive positive integers, 1 to n, can be obtained, giving your answer as a string: abcd.\"\n",
    "'''\n",
    "from  operator import add, sub, mul, truediv\n",
    "import itertools\n",
    "\n",
    "def seq_length(s, c=1):\n",
    "\twhile c in s: c+= 1\n",
    "\treturn c-1\n",
    "\n",
    "maxt, maxs = 0, 0\n",
    "for terms in itertools.combinations(range(1, 10), 4):\n",
    "\ts = set()\n",
    "\tfor n in itertools.permutations(terms):\n",
    "\t\tfor op in itertools.product([add, mul, sub, truediv], repeat=3):\n",
    "\t\t\tx = op[0](op[1](n[0],n[1]),op[2](n[2],n[3]))    # (a.b).(c.d)\n",
    "\t\t\tif x%1 == 0 and x > 0: s.add(int(x))\n",
    "\t\t\tx = op[0](op[1](op[2](n[0],n[1]),n[2]),n[3])    # ((a.b).c).d\n",
    "\t\t\tif x%1 == 0 and x > 0: s.add(int(x))\n",
    "\t\tif seq_length(s) > maxs: maxs, maxt = seq_length(s), terms\n",
    "\n",
    "print (''.join(str(i) for i in maxt))"
   ]
  },
  {
   "attachments": {},
   "cell_type": "markdown",
   "metadata": {},
   "source": [
    "### Question 94"
   ]
  },
  {
   "cell_type": "code",
   "execution_count": 51,
   "metadata": {},
   "outputs": [
    {
     "name": "stdout",
     "output_type": "stream",
     "text": [
      "518408346\n"
     ]
    }
   ],
   "source": [
    "'''\"It is easily proved that no equilateral triangle exists with integral length sides and integral area. However, the almost equilateral triangle 5-5-6 has an area of 12 square units.\n",
    "We shall define an almost equilateral triangle to be a triangle for which two sides are equal and the third differs by no more than one unit.\n",
    "Find the sum of the perimeters of all almost equilateral triangles with integral side lengths and area and whose perimeters do not exceed one billion (1,000,000,000).\"\n",
    "'''\n",
    "side0, side, s, p, m = 1, 1, 0, 0, 1\n",
    "\n",
    "L = 10**9\n",
    "while p <= L:\n",
    "\tside0, side, m = side, 4*side - side0 + 2*m, -m\n",
    "\ts += p\n",
    "\tp = 3*side - m\n",
    "\n",
    "print (s)"
   ]
  },
  {
   "cell_type": "code",
   "execution_count": null,
   "metadata": {},
   "outputs": [],
   "source": []
  }
 ],
 "metadata": {
  "kernelspec": {
   "display_name": "Python 3",
   "language": "python",
   "name": "python3"
  },
  "language_info": {
   "codemirror_mode": {
    "name": "ipython",
    "version": 3
   },
   "file_extension": ".py",
   "mimetype": "text/x-python",
   "name": "python",
   "nbconvert_exporter": "python",
   "pygments_lexer": "ipython3",
   "version": "3.10.2"
  },
  "orig_nbformat": 4,
  "vscode": {
   "interpreter": {
    "hash": "369f2c481f4da34e4445cda3fffd2e751bd1c4d706f27375911949ba6bb62e1c"
   }
  }
 },
 "nbformat": 4,
 "nbformat_minor": 2
}
