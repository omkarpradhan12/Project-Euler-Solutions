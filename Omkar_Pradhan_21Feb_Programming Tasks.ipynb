{
 "cells": [
  {
   "attachments": {},
   "cell_type": "markdown",
   "metadata": {},
   "source": [
    "### Question 95"
   ]
  },
  {
   "cell_type": "code",
   "execution_count": 2,
   "metadata": {},
   "outputs": [
    {
     "data": {
      "text/plain": [
       "14316"
      ]
     },
     "execution_count": 2,
     "metadata": {},
     "output_type": "execute_result"
    }
   ],
   "source": [
    "'''\n",
    "\"The proper divisors of a number are all the divisors excluding the number itself. For example, the proper divisors of 28 are 1, 2, 4, 7, and 14. As the sum of these divisors is equal to 28, we call it a perfect number.\n",
    "Interestingly the sum of the proper divisors of 220 is 284 and the sum of the proper divisors of 284 is 220, forming a chain of two numbers. For this reason, 220 and 284 are called an amicable pair.\n",
    "Perhaps less well known are longer chains. For example, starting with 12496, we form a chain of five numbers:\n",
    "12496 → 14288 → 15472 → 14536 → 14264 (→ 12496 → ...)\n",
    "Since this chain returns to its starting point, it is called an amicable chain.\n",
    "Find the smallest member of the longest amicable chain with no element exceeding one million.\"\n",
    "'''\n",
    "\n",
    "def pe95(L = 1000000):\n",
    "    d = [1] * L\n",
    "    for i in range(2, L//2):\n",
    "        for j in range(2*i, L, i):\n",
    "            d[j] += i\n",
    "\n",
    "    max_cl = 0\n",
    "    for i in range(2, L):\n",
    "        n, chain = i, []\n",
    "        while d[n] < L:\n",
    "            d[n], n = L+1, d[n]\n",
    "            try: k = chain.index(n)\n",
    "            except ValueError: chain.append(n)\n",
    "            else: \n",
    "                if len(chain[k:]) > max_cl:\n",
    "                    max_cl, min_link = len(chain[k:]), min(chain[k:])\n",
    "    return min_link\n",
    "\n",
    "pe95()"
   ]
  },
  {
   "cell_type": "code",
   "execution_count": null,
   "metadata": {},
   "outputs": [],
   "source": []
  }
 ],
 "metadata": {
  "kernelspec": {
   "display_name": "Python 3",
   "language": "python",
   "name": "python3"
  },
  "language_info": {
   "codemirror_mode": {
    "name": "ipython",
    "version": 3
   },
   "file_extension": ".py",
   "mimetype": "text/x-python",
   "name": "python",
   "nbconvert_exporter": "python",
   "pygments_lexer": "ipython3",
   "version": "3.10.2"
  },
  "orig_nbformat": 4,
  "vscode": {
   "interpreter": {
    "hash": "369f2c481f4da34e4445cda3fffd2e751bd1c4d706f27375911949ba6bb62e1c"
   }
  }
 },
 "nbformat": 4,
 "nbformat_minor": 2
}
