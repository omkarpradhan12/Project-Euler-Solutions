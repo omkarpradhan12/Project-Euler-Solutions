{
 "cells": [
  {
   "attachments": {},
   "cell_type": "markdown",
   "metadata": {},
   "source": [
    "### Question 97"
   ]
  },
  {
   "cell_type": "code",
   "execution_count": 9,
   "metadata": {},
   "outputs": [
    {
     "data": {
      "text/plain": [
       "'8739992577'"
      ]
     },
     "execution_count": 9,
     "metadata": {},
     "output_type": "execute_result"
    }
   ],
   "source": [
    "'''\n",
    "\"The first known prime found to exceed one million digits was discovered in 1999, and is a Mersenne prime of the form 26972593−1; it contains exactly 2,098,960 digits. Subsequently other Mersenne primes, of the form 2p−1, have been found which contain more digits.\n",
    "However, in 2004 there was found a massive non-Mersenne prime which contains 2,357,207 digits: 28433×27830457+1.\n",
    "Find the last ten digits of this prime number.\"\n",
    "'''\n",
    "\n",
    "\n",
    "x=str(28433 * pow(2, 7830457, 10**10) + 1)\n",
    "x[len(x)-10::]"
   ]
  },
  {
   "attachments": {},
   "cell_type": "markdown",
   "metadata": {},
   "source": [
    "### Question 98"
   ]
  },
  {
   "cell_type": "code",
   "execution_count": 72,
   "metadata": {},
   "outputs": [
    {
     "data": {
      "text/plain": [
       "18769"
      ]
     },
     "execution_count": 72,
     "metadata": {},
     "output_type": "execute_result"
    }
   ],
   "source": [
    "'''\n",
    "\"By replacing each of the letters in the word CARE with 1, 2, 9, and 6 respectively, we form a square number: 1296 = 362. What is remarkable is that, by using the same digital substitutions, the anagram, RACE, also forms a square number:\n",
    "9216 = 962. We shall call CARE (and RACE) a square anagram word pair and specify further that leading zeroes are not permitted, neither may a different letter have the same digital value as another letter.\n",
    "Using words.txt (right click and 'Save Link/Target As...'), a 16K text file containing nearly two-thousand common English words, find all the square anagram word pairs (a palindromic word is NOT considered to be an anagram of itself).\n",
    "What is the largest square number formed by any member of such a pair?\n",
    "NOTE: All anagrams formed must be contained in the given text file.\"\n",
    "'''\n",
    "\n",
    "def readwords(filename):\n",
    "    \n",
    "    D = {}\n",
    "    with open(filename,'r') as source:\n",
    "        words = source.readline().rstrip().split(',')\n",
    "        for w in words:\n",
    "            w = w.strip('\"')\n",
    "            Len = len(w)\n",
    "            if Len <= 1:\n",
    "                continue # a palindromic word is not considered\n",
    "            if not Len in D:\n",
    "                D[Len] = [w]\n",
    "            else:\n",
    "                D[Len].append(w)\n",
    "    return D\n",
    "\n",
    "def buildpairs(words):\n",
    "    \n",
    "    pairs = {}\n",
    "    for key in words:\n",
    "        source = words[key]\n",
    "        tmp = []\n",
    "        for i in range(len(source)-1):\n",
    "            for j in range(i+1,len(source)):\n",
    "                w1 = source[i]\n",
    "                w2 = source[j]\n",
    "                if sorted(w1)==sorted(w2):\n",
    "                    tmp.append((w1,w2))\n",
    "        if len(tmp):\n",
    "            pairs[key] = tmp\n",
    "    \n",
    "    return pairs\n",
    "\n",
    "def buildsquares(maxnum):\n",
    "    \n",
    "    sm = 4\n",
    "    D = {}\n",
    "    while True:\n",
    "        sqs = str(sm ** 2)\n",
    "        Len = len(sqs)\n",
    "        if Len > maxnum:\n",
    "            break\n",
    "        if not Len in D:\n",
    "            D[Len] = {sqs}\n",
    "        else:\n",
    "            D[Len].add(sqs)\n",
    "        sm += 1\n",
    "    return D\n",
    "\n",
    "def match(word, square):\n",
    "    \n",
    "    if len(set(word)) != len(set(square)):\n",
    "        return False\n",
    "    tmp = {}\n",
    "    for i, l in enumerate(word):\n",
    "        if l in tmp:\n",
    "            if tmp[l] != square[i]:\n",
    "                return False\n",
    "        else:\n",
    "            tmp[l] = square[i]\n",
    "    \n",
    "    return True\n",
    "\n",
    "def search(pairs, squares):\n",
    "    \n",
    "    hits = set()\n",
    "    for Len in pairs:\n",
    "        candis = pairs[Len]\n",
    "        spaces = squares[Len]\n",
    "        for w1, w2 in candis:\n",
    "            for sqs in spaces:\n",
    "                numsqs = int(sqs)\n",
    "                if numsqs in hits:\n",
    "                    continue\n",
    "                check = match(w1, sqs)\n",
    "                if not check:\n",
    "                    continue\n",
    "                table = str.maketrans(w1, sqs)\n",
    "                trans = w2.translate(table)\n",
    "                if trans in spaces:\n",
    "                    hits.add(numsqs)\n",
    "                    hits.add(int(trans))\n",
    "    \n",
    "    return max(hits)\n",
    "\n",
    "def worker():\n",
    "    \n",
    "    words = readwords('./p098_words.txt')\n",
    "    pairs = buildpairs(words)\n",
    "    squares = buildsquares(max(pairs))\n",
    "    res = search(pairs, squares)\n",
    "    \n",
    "    return res\n",
    "\n",
    "worker()\n"
   ]
  },
  {
   "attachments": {},
   "cell_type": "markdown",
   "metadata": {},
   "source": [
    "### Question 99"
   ]
  },
  {
   "cell_type": "code",
   "execution_count": 11,
   "metadata": {},
   "outputs": [
    {
     "data": {
      "text/plain": [
       "708"
      ]
     },
     "execution_count": 11,
     "metadata": {},
     "output_type": "execute_result"
    }
   ],
   "source": [
    "'''\n",
    "\"Comparing two numbers written in index form like 211 and 37 is not difficult, as any calculator would confirm that 211 = 2048 < 37 = 2187.\n",
    "However, confirming that 632382518061 > 519432525806 would be much more difficult, as both numbers contain over three million digits.\n",
    "Using base_exp.txt (right click and 'Save Link/Target As...'), a 22K text file containing one thousand lines with a base/exponent pair on each line, determine which line number has the greatest numerical value.\n",
    "NOTE: The first two lines in the file represent the numbers in the example given above.\"\n",
    "'''\n",
    "from math import log\n",
    "\n",
    "num_pairs = []\n",
    "with open(\"./p099_base_exp.txt\") as pairs:\n",
    "    num_pairs = pairs.read().split()\n",
    "\n",
    "eval_pairs = []\n",
    "for i in num_pairs:\n",
    "    x = [int(n) for n in i.split(',')]\n",
    "    eval_pairs.append(x[1] * log(x[0]))\n",
    "\n",
    "eval_pairs.index(max(eval_pairs))+1\n"
   ]
  },
  {
   "attachments": {},
   "cell_type": "markdown",
   "metadata": {},
   "source": [
    "### Question 100"
   ]
  },
  {
   "cell_type": "code",
   "execution_count": 13,
   "metadata": {},
   "outputs": [
    {
     "data": {
      "text/plain": [
       "756872327473.0"
      ]
     },
     "execution_count": 13,
     "metadata": {},
     "output_type": "execute_result"
    }
   ],
   "source": [
    "'''\"If a box contains twenty-one coloured discs, composed of fifteen blue discs and six red discs, and two discs were taken at random, it can be seen that the probability of taking two blue discs, P(BB) = (15/21)×(14/20) = 1/2.\n",
    "The next such arrangement, for which there is exactly 50% chance of taking two blue discs at random, is a box containing eighty-five blue discs and thirty-five red discs.\n",
    "By finding the first arrangement to contain over 1012 = 1,000,000,000,000 discs in total, determine the number of blue discs that the box would contain.\"\n",
    "'''\n",
    "#using pell equation from wiki and wolfram\n",
    "def probality_arangent(n):\n",
    "     y = 7\n",
    "     x = 5\n",
    "     maxY = 2*n-1\n",
    "     while(y<=maxY):\n",
    "         tempX = 2*y+3*x\n",
    "         tempY = 3*y+4*x\n",
    "         y = tempY\n",
    "         x = tempX\n",
    "     return (x+1)/2\n",
    "\n",
    "probality_arangent(10**12)"
   ]
  },
  {
   "cell_type": "code",
   "execution_count": null,
   "metadata": {},
   "outputs": [],
   "source": []
  }
 ],
 "metadata": {
  "kernelspec": {
   "display_name": "Python 3",
   "language": "python",
   "name": "python3"
  },
  "language_info": {
   "codemirror_mode": {
    "name": "ipython",
    "version": 3
   },
   "file_extension": ".py",
   "mimetype": "text/x-python",
   "name": "python",
   "nbconvert_exporter": "python",
   "pygments_lexer": "ipython3",
   "version": "3.10.2"
  },
  "orig_nbformat": 4,
  "vscode": {
   "interpreter": {
    "hash": "369f2c481f4da34e4445cda3fffd2e751bd1c4d706f27375911949ba6bb62e1c"
   }
  }
 },
 "nbformat": 4,
 "nbformat_minor": 2
}
