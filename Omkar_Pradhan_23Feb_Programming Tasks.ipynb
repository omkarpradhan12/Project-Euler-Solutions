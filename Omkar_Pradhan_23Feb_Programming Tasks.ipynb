{
 "cells": [
  {
   "attachments": {},
   "cell_type": "markdown",
   "metadata": {},
   "source": [
    "### Question 102"
   ]
  },
  {
   "cell_type": "code",
   "execution_count": 23,
   "metadata": {},
   "outputs": [
    {
     "name": "stdout",
     "output_type": "stream",
     "text": [
      "228\n"
     ]
    }
   ],
   "source": [
    "def area(points):\n",
    "    \n",
    "    x1 = int(points[0])\n",
    "    y1 = int(points[1])\n",
    "    x2 = int(points[2])\n",
    "    y2 = int(points[3])\n",
    "    x3 = int(points[4])\n",
    "    y3 = int(points[5])\n",
    " \n",
    "    return abs((x1 * (y2 - y3) + x2 * (y3 - y1)\n",
    "                + x3 * (y1 - y2)) / 2.0)\n",
    "\n",
    "def isInside(points, x, y):\n",
    "    \n",
    "    x1 = int(points[0])\n",
    "    y1 = int(points[1])\n",
    "    x2 = int(points[2])\n",
    "    y2 = int(points[3])\n",
    "    x3 = int(points[4])\n",
    "    y3 = int(points[5])\n",
    "    # Calculate area of triangle ABC\n",
    "    A = area ([x1, y1, x2, y2, x3, y3])\n",
    " \n",
    "    # Calculate area of triangle PBC\n",
    "    A1 = area ([x, y, x2, y2, x3, y3])\n",
    "     \n",
    "    # Calculate area of triangle PAC\n",
    "    A2 = area ([x1, y1, x, y, x3, y3])\n",
    "     \n",
    "    # Calculate area of triangle PAB\n",
    "    A3 = area ([x1, y1, x2, y2, x, y])\n",
    "     \n",
    "    # Check if sum of A1, A2 and A3\n",
    "    # is same as A\n",
    "    if(A == A1 + A2 + A3):\n",
    "        return True\n",
    "    else:\n",
    "        return False\n",
    "\n",
    "triangles = []\n",
    "with open(\"./p102_triangles.txt\") as triangle:\n",
    "    triangles = triangle.read().split()\n",
    "\n",
    "triangles = [t.split(',') for t in triangles]\n",
    "\n",
    "cnt=0\n",
    "for triangle in triangles:\n",
    "    if isInside(triangle,0,0):\n",
    "        cnt+=1\n",
    "\n",
    "print(cnt)\n"
   ]
  },
  {
   "attachments": {},
   "cell_type": "markdown",
   "metadata": {},
   "source": [
    "### Question 104"
   ]
  },
  {
   "cell_type": "code",
   "execution_count": 33,
   "metadata": {},
   "outputs": [
    {
     "data": {
      "text/plain": [
       "'329468'"
      ]
     },
     "execution_count": 33,
     "metadata": {},
     "output_type": "execute_result"
    }
   ],
   "source": [
    "'''\"The Fibonacci sequence is defined by the recurrence relation:\n",
    "Fn = Fn−1 + Fn−2, where F1 = 1 and F2 = 1.\n",
    "It turns out that F541, which contains 113 digits, is the first Fibonacci number for which the last nine digits are 1-9 pandigital (contain all the digits 1 to 9, but not necessarily in order). And F2749, which contains 575 digits, is the first Fibonacci number for which the first nine digits are 1-9 pandigital.\n",
    "Given that Fk is the first Fibonacci number for which the first nine digits AND the last nine digits are 1-9 pandigital, find k.\"\n",
    "'''\n",
    "\n",
    "import itertools\n",
    "\n",
    "\n",
    "def compute():\n",
    "\tMOD = 10**9\n",
    "\ta = 0\n",
    "\tb = 1\n",
    "\tfor i in itertools.count():\n",
    "\t\t# Loop invariants: a == fib(i) % MOD, b == fib(i+1) % MOD\n",
    "\t\tif \"\".join(sorted(str(a))) == \"123456789\":  # If suffix is pandigital\n",
    "\t\t\tf = fibonacci(i)[0]\n",
    "\t\t\tif \"\".join(sorted(str(f)[ : 9])) == \"123456789\":  # If prefix is pandigital\n",
    "\t\t\t\treturn str(i)\n",
    "\t\ta, b = b, (a + b) % MOD\n",
    "\treturn str(ans)\n",
    "\n",
    "\n",
    "# Returns the tuple (F(n), F(n+1)), computed by the fast doubling method.\n",
    "def fibonacci(n):\n",
    "    if n == 0:\n",
    "        return (0, 1)\n",
    "    else:\n",
    "        a, b = fibonacci(n // 2)\n",
    "        c = a * (b * 2 - a)\n",
    "        d = a * a + b * b\n",
    "        if n % 2 == 0:\n",
    "            return (c, d)\n",
    "        else:\n",
    "            return (d, c + d)\n",
    "\n",
    "compute()\n"
   ]
  },
  {
   "cell_type": "code",
   "execution_count": null,
   "metadata": {},
   "outputs": [],
   "source": []
  }
 ],
 "metadata": {
  "kernelspec": {
   "display_name": "Python 3",
   "language": "python",
   "name": "python3"
  },
  "language_info": {
   "codemirror_mode": {
    "name": "ipython",
    "version": 3
   },
   "file_extension": ".py",
   "mimetype": "text/x-python",
   "name": "python",
   "nbconvert_exporter": "python",
   "pygments_lexer": "ipython3",
   "version": "3.10.2"
  },
  "orig_nbformat": 4,
  "vscode": {
   "interpreter": {
    "hash": "369f2c481f4da34e4445cda3fffd2e751bd1c4d706f27375911949ba6bb62e1c"
   }
  }
 },
 "nbformat": 4,
 "nbformat_minor": 2
}
