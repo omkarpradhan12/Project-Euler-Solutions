{
 "cells": [
  {
   "attachments": {},
   "cell_type": "markdown",
   "metadata": {},
   "source": [
    "### Question 50"
   ]
  },
  {
   "cell_type": "code",
   "execution_count": 31,
   "metadata": {},
   "outputs": [
    {
     "name": "stderr",
     "output_type": "stream",
     "text": [
      "100%|██████████| 999998/999998 [06:22<00:00, 2612.63it/s]"
     ]
    },
    {
     "name": "stdout",
     "output_type": "stream",
     "text": [
      "997651  :  543\n"
     ]
    },
    {
     "name": "stderr",
     "output_type": "stream",
     "text": [
      "\n"
     ]
    }
   ],
   "source": [
    "'''\n",
    "\"The prime 41, can be written as the sum of six consecutive primes:\n",
    "41 = 2 + 3 + 5 + 7 + 11 + 13\n",
    "This is the longest sum of consecutive primes that adds to a prime below one-hundred.\n",
    "The longest sum of consecutive primes below one-thousand that adds to a prime, contains 21 terms, and is equal to 953.\n",
    "Which prime, below one-million, can be written as the sum of the most consecutive primes?\"\n",
    "'''\n",
    "from tqdm import tqdm\n",
    "\n",
    "\n",
    "def is_prime(n):\n",
    "    if n == 1:\n",
    "        return False\n",
    "    i = 2\n",
    "    while i*i <= n:\n",
    "        if n % i == 0:\n",
    "            return False\n",
    "        i += 1\n",
    "    return True\n",
    "\n",
    "\n",
    "def prime_till_num(n):\n",
    "    primes = []\n",
    "    i=1\n",
    "    while(sum(primes)<n):\n",
    "        i+=1\n",
    "        if is_prime(i):\n",
    "            primes.append(i)\n",
    "    return primes\n",
    "\n",
    "def check_sum(n,p_list):\n",
    "    l_plist = len(p_list)\n",
    "    if sum(p_list)==n:\n",
    "            return [True,l_plist]\n",
    "    \n",
    "    for i in range(0,l_plist):\n",
    "        if sum(p_list[i::])==n:\n",
    "            return [True,l_plist-i]\n",
    "    return [False,0]\n",
    "    \n",
    "\n",
    "\n",
    "m_terms=0\n",
    "m_num =0\n",
    "for i in tqdm(range(2,1000000)):\n",
    "    if is_prime(i):\n",
    "        p_till_num = prime_till_num(i)\n",
    "        cs = check_sum(i,p_till_num)\n",
    "        if cs[0]==True:\n",
    "            if cs[1]>m_terms:\n",
    "                m_terms = cs[1]\n",
    "                m_num = i\n",
    "\n",
    "print(m_num,\" : \",m_terms)\n",
    "\n"
   ]
  },
  {
   "cell_type": "code",
   "execution_count": 46,
   "metadata": {},
   "outputs": [
    {
     "ename": "SyntaxError",
     "evalue": "invalid syntax (1356550546.py, line 45)",
     "output_type": "error",
     "traceback": [
      "\u001b[1;36m  Input \u001b[1;32mIn [46]\u001b[1;36m\u001b[0m\n\u001b[1;33m    [x while x<10]\u001b[0m\n\u001b[1;37m       ^\u001b[0m\n\u001b[1;31mSyntaxError\u001b[0m\u001b[1;31m:\u001b[0m invalid syntax\n"
     ]
    }
   ],
   "source": [
    "# Alternate test \n",
    "'''\n",
    "\"The prime 41, can be written as the sum of six consecutive primes:\n",
    "41 = 2 + 3 + 5 + 7 + 11 + 13\n",
    "This is the longest sum of consecutive primes that adds to a prime below one-hundred.\n",
    "The longest sum of consecutive primes below one-thousand that adds to a prime, contains 21 terms, and is equal to 953.\n",
    "Which prime, below one-million, can be written as the sum of the most consecutive primes?\"\n",
    "'''\n",
    "from tqdm import tqdm\n",
    "\n",
    "\n",
    "def is_prime(n):\n",
    "    if n == 1:\n",
    "        return False\n",
    "    i = 2\n",
    "    while i*i <= n:\n",
    "        if n % i == 0:\n",
    "            return False\n",
    "        i += 1\n",
    "    return True\n",
    "\n",
    "\n",
    "def prime_till_num(n):\n",
    "    primes = []\n",
    "    i=1\n",
    "    while(i<n):\n",
    "        i+=1\n",
    "        if is_prime(i):\n",
    "            primes.append(i)\n",
    "    return primes\n",
    "\n",
    "def check_sum(n,p_list):\n",
    "    l_plist = len(p_list)\n",
    "    if sum(p_list)==n:\n",
    "            return [True,l_plist]\n",
    "    \n",
    "    for i in range(0,l_plist):\n",
    "        if sum(p_list[i::])==n:\n",
    "            return [True,l_plist-i]\n",
    "    return [False,0]\n",
    "    \n",
    "\n",
    "p_till_num = prime_till_num(1000000+1)\n"
   ]
  },
  {
   "attachments": {},
   "cell_type": "markdown",
   "metadata": {},
   "source": [
    "### Question 52"
   ]
  },
  {
   "cell_type": "code",
   "execution_count": 119,
   "metadata": {},
   "outputs": [
    {
     "name": "stdout",
     "output_type": "stream",
     "text": [
      "142857 285714 428571 571428 714285 857142\n"
     ]
    }
   ],
   "source": [
    "'''\n",
    "\"It can be seen that the number, 125874, and its double, 251748, contain exactly the same digits, but in a different order.\n",
    "Find the smallest positive integer, x, such that 2x, 3x, 4x, 5x, and 6x, contain the same digits.\"\n",
    "'''\n",
    "i=1\n",
    "while(True):\n",
    "    i+=1\n",
    "    if( set(str(i))==set(str(i*2))==set(str(i*3))==set(str(i*4))==set(str(i*5))==set(str(i*6)) ):\n",
    "        print(i,i*2,i*3,i*4,i*5,i*6)\n",
    "        break\n",
    "        \n",
    "    "
   ]
  },
  {
   "attachments": {},
   "cell_type": "markdown",
   "metadata": {},
   "source": [
    "### Question 53"
   ]
  },
  {
   "cell_type": "code",
   "execution_count": 126,
   "metadata": {},
   "outputs": [
    {
     "name": "stdout",
     "output_type": "stream",
     "text": [
      "4075\n"
     ]
    }
   ],
   "source": [
    "def factorial(num):\n",
    "    f = 1\n",
    "    for i in range(num,1,-1):\n",
    "        f*=i\n",
    "    return f\n",
    "\n",
    "cnt = 0\n",
    "for n in range(1,101):\n",
    "    for r in range(1,n):\n",
    "        if (factorial(n)/(factorial(r)*factorial(n-r)))>1000000:\n",
    "            cnt+=1\n",
    "\n",
    "print(cnt)"
   ]
  },
  {
   "attachments": {},
   "cell_type": "markdown",
   "metadata": {},
   "source": [
    "### Question 55"
   ]
  },
  {
   "cell_type": "code",
   "execution_count": 172,
   "metadata": {},
   "outputs": [
    {
     "name": "stdout",
     "output_type": "stream",
     "text": [
      "249\n"
     ]
    }
   ],
   "source": [
    "'''\"If we take 47, reverse and add, 47 + 74 = 121, which is palindromic.\n",
    "Not all numbers produce palindromes so quickly. For example,\n",
    "349 + 943 = 1292,\n",
    "1292 + 2921 = 4213\n",
    "4213 + 3124 = 7337\n",
    "That is, 349 took three iterations to arrive at a palindrome.\n",
    "Although no one has proved it yet, it is thought that some numbers, like 196, never produce a palindrome. A number that never forms a palindrome through the reverse and add process is called a Lychrel number. Due to the theoretical nature of these numbers, and for the purpose of this problem, we shall assume that a number is Lychrel until proven otherwise. In addition you are given that for every number below ten-thousand, it will either (i) become a palindrome in less than fifty iterations, or, (ii) no one, with all the computing power that exists, has managed so far to map it to a palindrome. In fact, 10677 is the first number to be shown to require over fifty iterations before producing a palindrome: 4668731596684224866951378664 (53 iterations, 28-digits).\n",
    "Surprisingly, there are palindromic numbers that are themselves Lychrel numbers; the first example is 4994.\n",
    "How many Lychrel numbers are there below ten-thousand?\n",
    "NOTE: Wording was modified slightly on 24 April 2007 to emphasise the theoretical nature of Lychrel numbers.\"\n",
    "'''\n",
    "\n",
    "def pal(n):\n",
    "    num_iter = 0\n",
    "    f=True\n",
    "    while(f):\n",
    "        if num_iter<51:\n",
    "            n += int(str(n)[::-1])\n",
    "            num_iter+=1\n",
    "            if(str(n)==str(n)[::-1]):\n",
    "                f=False\n",
    "        else:\n",
    "            return False\n",
    "    return num_iter\n",
    "        \n",
    "cnt=0\n",
    "for i in range(1,10000):\n",
    "    if pal(i)==False:\n",
    "        cnt+=1\n",
    "print(cnt)"
   ]
  },
  {
   "attachments": {},
   "cell_type": "markdown",
   "metadata": {},
   "source": [
    "### Question 56"
   ]
  },
  {
   "cell_type": "code",
   "execution_count": 184,
   "metadata": {},
   "outputs": [
    {
     "name": "stdout",
     "output_type": "stream",
     "text": [
      "99 ** 95 972\n"
     ]
    }
   ],
   "source": [
    "'''\n",
    "\"A googol (10100) is a massive number: one followed by one-hundred zeros; 100100 is almost unimaginably large: one followed by two-hundred zeros. Despite their size, the sum of the digits in each number is only 1.\n",
    "Considering natural numbers of the form, ab, where a, b < 100, what is the maximum digital sum?\"\n",
    "'''\n",
    "\n",
    "s_max=0\n",
    "a_max = 0\n",
    "b_max = 0\n",
    "for a in range(1,101):\n",
    "    for b in range(1,101):\n",
    "        if(sum([int(x) for x in str(a**b)]))>s_max:\n",
    "            s_max = sum([int(x) for x in str(a**b)])\n",
    "            a_max = a\n",
    "            b_max = b\n",
    "\n",
    "print(a_max,\"**\",b_max,s_max)"
   ]
  },
  {
   "cell_type": "code",
   "execution_count": null,
   "metadata": {},
   "outputs": [],
   "source": []
  }
 ],
 "metadata": {
  "kernelspec": {
   "display_name": "Python 3",
   "language": "python",
   "name": "python3"
  },
  "language_info": {
   "codemirror_mode": {
    "name": "ipython",
    "version": 3
   },
   "file_extension": ".py",
   "mimetype": "text/x-python",
   "name": "python",
   "nbconvert_exporter": "python",
   "pygments_lexer": "ipython3",
   "version": "3.10.2"
  },
  "orig_nbformat": 4,
  "vscode": {
   "interpreter": {
    "hash": "369f2c481f4da34e4445cda3fffd2e751bd1c4d706f27375911949ba6bb62e1c"
   }
  }
 },
 "nbformat": 4,
 "nbformat_minor": 2
}
