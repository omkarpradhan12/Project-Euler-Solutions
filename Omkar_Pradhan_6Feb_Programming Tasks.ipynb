{
 "cells": [
  {
   "attachments": {},
   "cell_type": "markdown",
   "metadata": {},
   "source": [
    "### Question 50"
   ]
  },
  {
   "cell_type": "code",
   "execution_count": 79,
   "metadata": {},
   "outputs": [
    {
     "name": "stdout",
     "output_type": "stream",
     "text": [
      "92951  :  183\n"
     ]
    }
   ],
   "source": [
    "'''\n",
    "\"The prime 41, can be written as the sum of six consecutive primes:\n",
    "41 = 2 + 3 + 5 + 7 + 11 + 13\n",
    "This is the longest sum of consecutive primes that adds to a prime below one-hundred.\n",
    "The longest sum of consecutive primes below one-thousand that adds to a prime, contains 21 terms, and is equal to 953.\n",
    "Which prime, below one-million, can be written as the sum of the most consecutive primes?\"\n",
    "'''\n",
    "\n",
    "def is_prime(n):\n",
    "    if n == 1:\n",
    "        return False\n",
    "    i = 2\n",
    "    while i*i <= n:\n",
    "        if n % i == 0:\n",
    "            return False\n",
    "        i += 1\n",
    "    return True\n",
    "\n",
    "\n",
    "def prime_till_num(n):\n",
    "    primes = []\n",
    "    i=1\n",
    "    while(sum(primes)<n):\n",
    "        i+=1\n",
    "        if is_prime(i):\n",
    "            primes.append(i)\n",
    "    return primes\n",
    "\n",
    "def check_sum(n,p_list):\n",
    "    \n",
    "    if sum(p_list)==n:\n",
    "            return [True,len(p_list)]\n",
    "    \n",
    "    for i in range(0,len(p_list)):\n",
    "        if(sum(p_list[len(p_list)-1:i:-1])==n):\n",
    "            return [True,len(p_list)-i-1]\n",
    "    return [False,0]\n",
    "\n",
    "\n",
    "m_terms=0\n",
    "m_num =0\n",
    "for i in range(2,100000):\n",
    "    p_till_num = prime_till_num(i)\n",
    "    if is_prime(i):\n",
    "        cs = check_sum(i,p_till_num)\n",
    "        if cs[0]==True:\n",
    "            if cs[1]>m_terms:\n",
    "                m_terms = cs[1]\n",
    "                m_num = i\n",
    "\n",
    "print(m_num,\" : \",m_terms)\n",
    "\n"
   ]
  },
  {
   "attachments": {},
   "cell_type": "markdown",
   "metadata": {},
   "source": [
    "### Question 52"
   ]
  },
  {
   "cell_type": "code",
   "execution_count": 119,
   "metadata": {},
   "outputs": [
    {
     "name": "stdout",
     "output_type": "stream",
     "text": [
      "142857 285714 428571 571428 714285 857142\n"
     ]
    }
   ],
   "source": [
    "'''\n",
    "\"It can be seen that the number, 125874, and its double, 251748, contain exactly the same digits, but in a different order.\n",
    "Find the smallest positive integer, x, such that 2x, 3x, 4x, 5x, and 6x, contain the same digits.\"\n",
    "'''\n",
    "i=1\n",
    "while(True):\n",
    "    i+=1\n",
    "    if( set(str(i))==set(str(i*2))==set(str(i*3))==set(str(i*4))==set(str(i*5))==set(str(i*6)) ):\n",
    "        print(i,i*2,i*3,i*4,i*5,i*6)\n",
    "        break\n",
    "        \n",
    "    "
   ]
  },
  {
   "attachments": {},
   "cell_type": "markdown",
   "metadata": {},
   "source": [
    "### Question 53"
   ]
  },
  {
   "cell_type": "code",
   "execution_count": 126,
   "metadata": {},
   "outputs": [
    {
     "name": "stdout",
     "output_type": "stream",
     "text": [
      "4075\n"
     ]
    }
   ],
   "source": [
    "def factorial(num):\n",
    "    f = 1\n",
    "    for i in range(num,1,-1):\n",
    "        f*=i\n",
    "    return f\n",
    "\n",
    "cnt = 0\n",
    "for n in range(1,101):\n",
    "    for r in range(1,n):\n",
    "        if (factorial(n)/(factorial(r)*factorial(n-r)))>1000000:\n",
    "            cnt+=1\n",
    "\n",
    "print(cnt)"
   ]
  },
  {
   "attachments": {},
   "cell_type": "markdown",
   "metadata": {},
   "source": [
    "### Question 54"
   ]
  },
  {
   "cell_type": "code",
   "execution_count": 152,
   "metadata": {},
   "outputs": [
    {
     "name": "stdout",
     "output_type": "stream",
     "text": [
      "['5C', '5H', '6S', '7S', 'KD'] ['2C', '3S', '8D', '8S', 'TD']\n"
     ]
    }
   ],
   "source": [
    "'''\n",
    "Poker hands\n",
    "'''\n",
    "poker_hands = []\n",
    "with open('p054_poker.txt') as ph:\n",
    "    poker_hands = ph.read().split('\\n')\n",
    "\n",
    "p1_hands = []\n",
    "p2_hands = []\n",
    "for i in range(0,len(poker_hands)):\n",
    "    if i%2==0:\n",
    "        p1_hands.append(poker_hands[i].split())\n",
    "    else:\n",
    "        p2_hands.append(poker_hands[i].split())\n",
    "\n",
    "win_count = 0\n",
    "\n",
    "h1 = \"5H 5C 6S 7S KD\".split()\n",
    "h2 = \"2C 3S 8S 8D TD\".split()\n",
    "\n",
    "def card_splitter(hand):\n",
    "    values = []\n",
    "    suites = []\n",
    "    \n",
    "    \n",
    "\n",
    "\n",
    "h1.sort()\n",
    "h2.sort()\n",
    "\n",
    "print(h1,h2)"
   ]
  },
  {
   "cell_type": "code",
   "execution_count": null,
   "metadata": {},
   "outputs": [],
   "source": []
  }
 ],
 "metadata": {
  "kernelspec": {
   "display_name": "Python 3",
   "language": "python",
   "name": "python3"
  },
  "language_info": {
   "codemirror_mode": {
    "name": "ipython",
    "version": 3
   },
   "file_extension": ".py",
   "mimetype": "text/x-python",
   "name": "python",
   "nbconvert_exporter": "python",
   "pygments_lexer": "ipython3",
   "version": "3.10.2"
  },
  "orig_nbformat": 4,
  "vscode": {
   "interpreter": {
    "hash": "369f2c481f4da34e4445cda3fffd2e751bd1c4d706f27375911949ba6bb62e1c"
   }
  }
 },
 "nbformat": 4,
 "nbformat_minor": 2
}
