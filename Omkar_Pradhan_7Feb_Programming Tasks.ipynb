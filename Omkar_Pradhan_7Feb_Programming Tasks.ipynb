{
 "cells": [
  {
   "attachments": {},
   "cell_type": "markdown",
   "metadata": {},
   "source": [
    "### Question 59"
   ]
  },
  {
   "cell_type": "code",
   "execution_count": 38,
   "metadata": {},
   "outputs": [
    {
     "name": "stdout",
     "output_type": "stream",
     "text": [
      " ['An extract taken from the introduction of one of Euler\\'s most celebrated papers, \"De summis serierum reciprocarum\" [On the sums of series of reciprocals]: I have recently found, quite unexpectedly, an elegant expression for the entire sum of this series 1 + 1/4 + 1/9 + 1/16 + etc., which depends on the quadrature of the circle, so that if the true sum of this series is obtained, from it at once the quadrature of the circle follows. Namely, I have found that the sum of this series is a sixth part of the square of the perimeter of the circle whose diameter is 1; or by putting the sum of this series equal to s, it has the ratio sqrt(6) multiplied by s to 1 of the perimeter to the diameter. I will soon show that the sum of this series to be approximately 1.644934066842264364; and from multiplying this number by six, and then taking the square root, the number 3.141592653589793238 is indeed produced, which expresses the perimeter of a circle whose diameter is 1. Following again the same steps by which I had arrived at this sum, I have discovered that the sum of the series 1 + 1/16 + 1/81 + 1/256 + 1/625 + etc. also depends on the quadrature of the circle. Namely, the sum of this multiplied by 90 gives the biquadrate (fourth power) of the circumference of the perimeter of a circle whose diameter is 1. And by similar reasoning I have likewise been able to determine the sums of the subsequent series in which the exponents are even numbers.']\n",
      "129448\n"
     ]
    }
   ],
   "source": [
    "f = open(\"p059_cipher.txt\", \"r\")\n",
    " \n",
    "if(f.mode == \"r\"):\n",
    "    contents = f.readlines()\n",
    "    realContents = []\n",
    "    for x in contents:\n",
    "        realContents.append(x.split(\",\"))\n",
    "else:\n",
    "    raise ValueError(\"Cannot read from file\")\n",
    "\n",
    "finalContents = []\n",
    "for x in realContents[0]:\n",
    "    finalContents.append(int(x))\n",
    "\n",
    "def isAcceptable(myChar):\n",
    "    return 'a'<=myChar<='z' or 'A'<=myChar<='Z' or myChar == ' ' or myChar == '\\'' or myChar == ',' or myChar == '\"' or myChar == '[' or myChar == ']' or myChar == ':' or '0'<=myChar<='9' or myChar == '/' or myChar == '.' or myChar == '(' or myChar == ')' or myChar == ';' or myChar=='+'\n",
    "    \n",
    "def projectEulerProblemFiftyNine(cipherText):\n",
    "    tl = len(cipherText)\n",
    "    alphabet = \"abcdefghijklmnopqrstuvwxyz\"\n",
    "    possible = []\n",
    "    for a in alphabet:\n",
    "        for b in alphabet:\n",
    "            for c in alphabet:\n",
    "                myGuess = a+b+c\n",
    "                asciiIndices = [ord(a),ord(b),ord(c)]\n",
    "                s = \"\"\n",
    "                bad = False\n",
    "                for x in range(tl):\n",
    "                    myChar = chr(cipherText[x] ^ asciiIndices[x%3])\n",
    "                    if not isAcceptable(myChar):\n",
    "                        bad = True\n",
    "                        break\n",
    "                    s+=myChar\n",
    "                if not bad:\n",
    "                    possible.append(s)\n",
    "                    \n",
    "    print(s,possible)\n",
    "    total = -1\n",
    "    for x in possible:\n",
    "        subTotal = 0\n",
    "        for y in x:\n",
    "            subTotal+=ord(y)\n",
    "        if(total==-1):\n",
    "            total = subTotal\n",
    "    return total\n",
    "\n",
    "\n",
    "print (\"Total\",projectEulerProblemFiftyNine(finalContents))\n",
    " \n",
    " \n",
    " "
   ]
  },
  {
   "attachments": {},
   "cell_type": "markdown",
   "metadata": {},
   "source": [
    "### Question 62"
   ]
  },
  {
   "cell_type": "code",
   "execution_count": 88,
   "metadata": {},
   "outputs": [
    {
     "name": "stdout",
     "output_type": "stream",
     "text": [
      "5027 127035954683\n"
     ]
    }
   ],
   "source": [
    "'''\n",
    "\"The cube, 41063625 (3453), can be permuted to produce two other cubes: 56623104 (3843) and 66430125 (4053). In fact, 41063625 is the smallest cube which has exactly three permutations of its digits which are also cube.\n",
    "Find the smallest cube for which exactly five permutations of its digits are cube.\"\n",
    "'''\n",
    "\n",
    "cubes = []\n",
    "i=0\n",
    "while(True):\n",
    "    cube = sorted(list(str(i**3)))\n",
    "    cubes.append(cube)\n",
    "    if cubes.count(cube)==5:\n",
    "        print (cubes.index(cube),(cubes.index(cube))**3)\n",
    "        break\n",
    "    i+=1\n"
   ]
  },
  {
   "attachments": {},
   "cell_type": "markdown",
   "metadata": {},
   "source": [
    "### Question 63"
   ]
  },
  {
   "cell_type": "code",
   "execution_count": 1,
   "metadata": {},
   "outputs": [
    {
     "name": "stdout",
     "output_type": "stream",
     "text": [
      "1\n",
      "2\n",
      "3\n",
      "4\n",
      "16\n",
      "5\n",
      "25\n",
      "125\n",
      "6\n",
      "36\n",
      "216\n",
      "1296\n",
      "7\n",
      "49\n",
      "343\n",
      "2401\n",
      "16807\n",
      "117649\n",
      "8\n",
      "64\n",
      "512\n",
      "4096\n",
      "32768\n",
      "262144\n",
      "2097152\n",
      "16777216\n",
      "134217728\n",
      "1073741824\n",
      "9\n",
      "81\n",
      "729\n",
      "6561\n",
      "59049\n",
      "531441\n",
      "4782969\n",
      "43046721\n",
      "387420489\n",
      "3486784401\n",
      "31381059609\n",
      "282429536481\n",
      "2541865828329\n",
      "22876792454961\n",
      "205891132094649\n",
      "1853020188851841\n",
      "16677181699666569\n",
      "150094635296999121\n",
      "1350851717672992089\n",
      "12157665459056928801\n",
      "109418989131512359209\n",
      "Counter :  49\n"
     ]
    }
   ],
   "source": [
    "'''\n",
    "\"The 5-digit number, 16807=75, is also a fifth power. Similarly, the 9-digit number, 134217728=89, is a ninth power.\n",
    "How many n-digit positive integers exist which are also an nth power?\"\n",
    "'''\n",
    "#dummy function\n",
    "def is_n_digit_power(num,digits):\n",
    "    return ((round(num**(1/digits)))**digits)==num\n",
    "\n",
    "\n",
    "counter = 0\n",
    "for i in range(1,10):\n",
    "    power = 1\n",
    "    while True:\n",
    "        if len(str(i**power))==power:\n",
    "            counter+=1\n",
    "            print(i**power)\n",
    "        else:\n",
    "            break\n",
    "        power+=1\n",
    "\n",
    "print(\"Counter : \",counter)"
   ]
  },
  {
   "attachments": {},
   "cell_type": "markdown",
   "metadata": {},
   "source": [
    "### Question 69"
   ]
  },
  {
   "cell_type": "code",
   "execution_count": 28,
   "metadata": {},
   "outputs": [
    {
     "name": "stderr",
     "output_type": "stream",
     "text": [
      "100%|██████████| 99999/99999 [00:52<00:00, 1890.72it/s] "
     ]
    },
    {
     "name": "stdout",
     "output_type": "stream",
     "text": [
      "2310 5\n"
     ]
    },
    {
     "name": "stderr",
     "output_type": "stream",
     "text": [
      "\n"
     ]
    }
   ],
   "source": [
    "'''\n",
    "\"Euler's Totient function, φ(n) [sometimes called the phi function], is used to determine the number of numbers less than n which are relatively prime to n. For example, as 1, 2, 4, 5, 7, and 8, are all less than nine and relatively prime to nine, φ(9)=6.\n",
    "n Relatively Prime φ(n) n/φ(n)\n",
    "2 1 1 2\n",
    "3 1,2 2 1.5\n",
    "4 1,3 2 2\n",
    "5 1,2,3,4 4 1.25\n",
    "6 1,5 2 3\n",
    "7 1,2,3,4,5,6 6 1.1666...\n",
    "8 1,3,5,7 4 2\n",
    "9 1,2,4,5,7,8 6 1.5\n",
    "10 1,3,7,9 4 2.5\n",
    "It can be seen that n=6 produces a maximum n/φ(n) for n ≤ 10.\n",
    "Find the value of n ≤ 1,000,000 for which n/φ(n) is a maximum.\"\n",
    "'''\n",
    "from tqdm import tqdm\n",
    "\n",
    "\n",
    "def primeFactors(n):\n",
    "    pf =[]\n",
    "    c = 2\n",
    "    while(n > 1):\n",
    "        if(n % c == 0):\n",
    "            pf.append(c)\n",
    "            n = n / c\n",
    "        else:\n",
    "            c = c + 1\n",
    "    return list(set(pf))\n",
    "\n",
    "def totient_function(primefacs):\n",
    "    mul = 1\n",
    "    for factor in primefacs:\n",
    "        mul *= (1.0 - (1.0/factor))\n",
    "\n",
    "    return round(1.0/mul)\n",
    "\n",
    "max_quotient = 0\n",
    "max_n = 0\n",
    "for i in tqdm(range(1,100000)):\n",
    "    tq = totient_function(primeFactors(i))\n",
    "    if tq>max_quotient:\n",
    "        max_quotient=tq\n",
    "        max_n =i\n",
    "\n",
    "print(max_n,max_quotient)"
   ]
  },
  {
   "cell_type": "code",
   "execution_count": null,
   "metadata": {},
   "outputs": [],
   "source": []
  }
 ],
 "metadata": {
  "kernelspec": {
   "display_name": "Python 3",
   "language": "python",
   "name": "python3"
  },
  "language_info": {
   "codemirror_mode": {
    "name": "ipython",
    "version": 3
   },
   "file_extension": ".py",
   "mimetype": "text/x-python",
   "name": "python",
   "nbconvert_exporter": "python",
   "pygments_lexer": "ipython3",
   "version": "3.10.2"
  },
  "orig_nbformat": 4,
  "vscode": {
   "interpreter": {
    "hash": "369f2c481f4da34e4445cda3fffd2e751bd1c4d706f27375911949ba6bb62e1c"
   }
  }
 },
 "nbformat": 4,
 "nbformat_minor": 2
}
