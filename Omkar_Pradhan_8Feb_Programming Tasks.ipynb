{
 "cells": [
  {
   "attachments": {},
   "cell_type": "markdown",
   "metadata": {},
   "source": [
    "### Question 70"
   ]
  },
  {
   "cell_type": "code",
   "execution_count": 37,
   "metadata": {},
   "outputs": [
    {
     "name": "stderr",
     "output_type": "stream",
     "text": [
      "100%|██████████| 9999998/9999998 [07:24<00:00, 22490.67it/s]"
     ]
    },
    {
     "name": "stdout",
     "output_type": "stream",
     "text": [
      "8319823 1.0007090511248113\n"
     ]
    },
    {
     "name": "stderr",
     "output_type": "stream",
     "text": [
      "\n"
     ]
    }
   ],
   "source": [
    "'''\n",
    "\"Euler's Totient function, φ(n) [sometimes called the phi function], is used to determine the number of positive numbers less than or equal to n which are relatively prime to n. For example, as 1, 2, 4, 5, 7, and 8, are all less than nine and relatively prime to nine, φ(9)=6.\n",
    "The number 1 is considered to be relatively prime to every positive number, so φ(1)=1.\n",
    "Interestingly, φ(87109)=79180, and it can be seen that 87109 is a permutation of 79180.\n",
    "Find the value of n, 1 < n < 107, for which φ(n) is a permutation of n and the ratio n/φ(n) produces a minimum.\"\n",
    "'''\n",
    "\n",
    "from sympy.ntheory.factor_ import totient #simple function from sympy to get totient value\n",
    "from tqdm import tqdm\n",
    "\n",
    "min_ratio = 2\n",
    "min_n =0\n",
    "for i in tqdm(range(2,10**7)):\n",
    "    t_i = totient(i)\n",
    "    if sorted([s for s in str(i)]) == sorted([t for t in str(t_i)]):\n",
    "        if min_ratio>i/float(t_i):\n",
    "            min_ratio = i/float(t_i)\n",
    "            min_n = i\n",
    "\n",
    "print(min_n,min_ratio)\n"
   ]
  },
  {
   "attachments": {},
   "cell_type": "markdown",
   "metadata": {},
   "source": [
    "### Question 71"
   ]
  },
  {
   "cell_type": "code",
   "execution_count": 12,
   "metadata": {},
   "outputs": [
    {
     "name": "stdout",
     "output_type": "stream",
     "text": [
      "428/999\n"
     ]
    }
   ],
   "source": [
    "'''\"Consider the fraction, n/d, where n and d are positive integers. If n<d and HCF(n,d)=1, it is called a reduced proper fraction.\n",
    "If we list the set of reduced proper fractions for d ≤ 8 in ascending order of size, we get:\n",
    "1/8, 1/7, 1/6, 1/5, 1/4, 2/7, 1/3, 3/8, 2/5, 3/7, 1/2, 4/7, 3/5, 5/8, 2/3, 5/7, 3/4, 4/5, 5/6, 6/7, 7/8\n",
    "It can be seen that 2/5 is the fraction immediately to the left of 3/7.\n",
    "By listing the set of reduced proper fractions for d ≤ 1,000,000 in ascending order of size, find the numerator of the fraction immediately to the left of 3/7.\"\n",
    "'''\n",
    "import math\n",
    "\n",
    "def proper_fractions(d):\n",
    "    p_f = {}\n",
    "    for deno in range(1,d+1):\n",
    "        for numo in range(1,deno):\n",
    "            if(math.gcd(numo,deno)==1):\n",
    "                p_f[numo/deno]=str(numo)+\"/\"+str(deno)\n",
    "    \n",
    "    p_keys = list(p_f.keys())\n",
    "    p_keys.sort()\n",
    "    s_p_f = {i:p_f[i] for i in p_keys}\n",
    "    \n",
    "    res = dict((v,k) for k,v in s_p_f.items())\n",
    "    return list(res.keys())\n",
    "\n",
    "pf = proper_fractions(1000)\n",
    "\n",
    "prev = ''\n",
    "for i in pf:\n",
    "    if (eval(i))<(3/7):\n",
    "        prev = i\n",
    "    if (eval(i))==(3/7):\n",
    "        break\n",
    "\n",
    "print(prev)\n"
   ]
  },
  {
   "cell_type": "code",
   "execution_count": 25,
   "metadata": {},
   "outputs": [
    {
     "name": "stdout",
     "output_type": "stream",
     "text": [
      "428570\n"
     ]
    }
   ],
   "source": [
    "\n",
    "from fractions import Fraction\n",
    "ts = 3/7\n",
    "closest = Fraction(ts).limit_denominator(1000000)\n",
    "while(closest==Fraction(3,7)):\n",
    "    ts-=  0.000001 #subtracting 1 milionth from ts \n",
    "    '''\n",
    "        3/7 = 0.42857142857142855\n",
    "        subtracting  0.000001 every single time \n",
    "    '''\n",
    "    closest = Fraction(ts).limit_denominator(1000000)\n",
    "print(closest.numerator)"
   ]
  },
  {
   "attachments": {},
   "cell_type": "markdown",
   "metadata": {},
   "source": [
    "### Question 72"
   ]
  },
  {
   "cell_type": "code",
   "execution_count": 1,
   "metadata": {},
   "outputs": [
    {
     "data": {
      "text/plain": [
       "30387486"
      ]
     },
     "execution_count": 1,
     "metadata": {},
     "output_type": "execute_result"
    }
   ],
   "source": [
    "'''\n",
    "\"Consider the fraction, n/d, where n and d are positive integers. If n<d and HCF(n,d)=1, it is called a reduced proper fraction.\n",
    "If we list the set of reduced proper fractions for d ≤ 8 in ascending order of size, we get:\n",
    "1/8, 1/7, 1/6, 1/5, 1/4, 2/7, 1/3, 3/8, 2/5, 3/7, 1/2, 4/7, 3/5, 5/8, 2/3, 5/7, 3/4, 4/5, 5/6, 6/7, 7/8\n",
    "It can be seen that there are 21 elements in this set.\n",
    "How many elements would be contained in the set of reduced proper fractions for d ≤ 1,000,000?\"\n",
    "'''\n",
    "import math\n",
    "\n",
    "def proper_fractions(d):\n",
    "    p_f = 0\n",
    "    for deno in range(1,d+1):\n",
    "        for numo in range(deno,1,-1):\n",
    "            if(math.gcd(numo,deno)==1):\n",
    "                p_f+=1\n",
    "    return p_f\n",
    "\n",
    "proper_fractions(10000)\n"
   ]
  },
  {
   "attachments": {},
   "cell_type": "markdown",
   "metadata": {},
   "source": [
    "### Question 74"
   ]
  },
  {
   "cell_type": "code",
   "execution_count": 39,
   "metadata": {},
   "outputs": [
    {
     "name": "stdout",
     "output_type": "stream",
     "text": [
      "Chain length :  402\n"
     ]
    }
   ],
   "source": [
    "'''\n",
    "\"The number 145 is well known for the property that the sum of the factorial of its digits is equal to 145:\n",
    "1! + 4! + 5! = 1 + 24 + 120 = 145\n",
    "Perhaps less well known is 169, in that it produces the longest chain of numbers that link back to 169; it turns out that there are only three such loops that exist:\n",
    "169 → 363601 → 1454 → 169\n",
    "871 → 45361 → 871\n",
    "872 → 45362 → 872\n",
    "It is not difficult to prove that EVERY starting number will eventually get stuck in a loop. For example,\n",
    "69 → 363600 → 1454 → 169 → 363601 (→ 1454)\n",
    "78 → 45360 → 871 → 45361 (→ 871)\n",
    "540 → 145 (→ 145)\n",
    "Starting with 69 produces a chain of five non-repeating terms, but the longest non-repeating chain with a starting number below one million is sixty terms.\n",
    "How many chains, with a starting number below one million, contain exactly sixty non-repeating terms?\"\n",
    "\n",
    "'''\n",
    "\n",
    "def factorial(n):\n",
    "    f = 1\n",
    "    for i in range(n,1,-1):\n",
    "        f*=i\n",
    "    return f\n",
    "\n",
    "def s_of_fdigits(n):\n",
    "    return sum([factorial(int(x)) for x in str(n)])\n",
    "\n",
    "\n",
    "def search(faclist,n):\n",
    "    for i in faclist:\n",
    "        if n==i:\n",
    "            return True\n",
    "    return False\n",
    "\n",
    "def chain_maker(n):\n",
    "    chain = []\n",
    "    chain.append(n)\n",
    "    r = False\n",
    "    while not r:\n",
    "        n = s_of_fdigits(n)\n",
    "        if not search(chain,n):\n",
    "            chain.append(n)\n",
    "        else:\n",
    "            r = True\n",
    "    return chain\n",
    "\n",
    "def chain_check(n):\n",
    "    chain = chain_maker(n)\n",
    "    if len(chain)==60:\n",
    "        return True\n",
    "    return False\n",
    "\n",
    "z=0\n",
    "for i in range(1,1000000):\n",
    "    if chain_check(i):\n",
    "        z+=1\n",
    "print(\"Chain length : \",z)\n",
    "    "
   ]
  },
  {
   "cell_type": "code",
   "execution_count": null,
   "metadata": {},
   "outputs": [],
   "source": []
  }
 ],
 "metadata": {
  "kernelspec": {
   "display_name": "Python 3",
   "language": "python",
   "name": "python3"
  },
  "language_info": {
   "codemirror_mode": {
    "name": "ipython",
    "version": 3
   },
   "file_extension": ".py",
   "mimetype": "text/x-python",
   "name": "python",
   "nbconvert_exporter": "python",
   "pygments_lexer": "ipython3",
   "version": "3.10.2"
  },
  "orig_nbformat": 4,
  "vscode": {
   "interpreter": {
    "hash": "369f2c481f4da34e4445cda3fffd2e751bd1c4d706f27375911949ba6bb62e1c"
   }
  }
 },
 "nbformat": 4,
 "nbformat_minor": 2
}
