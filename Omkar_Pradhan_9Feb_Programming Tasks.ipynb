{
 "cells": [
  {
   "attachments": {},
   "cell_type": "markdown",
   "metadata": {},
   "source": [
    "### Question 75"
   ]
  },
  {
   "cell_type": "code",
   "execution_count": 5,
   "metadata": {},
   "outputs": [
    {
     "name": "stdout",
     "output_type": "stream",
     "text": [
      "111\n"
     ]
    }
   ],
   "source": [
    "'''\"It turns out that 12 cm is the smallest length of wire that can be bent to form an integer sided right angle triangle in exactly one way, but there are many more examples.\n",
    "12 cm: (3,4,5)\n",
    "24 cm: (6,8,10)\n",
    "30 cm: (5,12,13)\n",
    "36 cm: (9,12,15)\n",
    "40 cm: (8,15,17)\n",
    "48 cm: (12,16,20)\n",
    "In contrast, some lengths of wire, like 20 cm, cannot be bent to form an integer sided right angle triangle, and other lengths allow more than one solution to be found; for example, using 120 cm it is possible to form exactly three different integer sided right angle triangles.\n",
    "120 cm: (30,40,50), (20,48,52), (24,45,51)\n",
    "Given that L is the length of the wire, for how many values of L ≤ 1,500,000 can exactly one integer sided right angle triangle be formed?\"\n",
    "'''\n",
    "\n",
    "\n",
    "def num_triangle(size):\n",
    "    cnt=0 \n",
    "    for c in range(size//2):\n",
    "        for a in range(c):\n",
    "            b = size - (a+c)\n",
    "            if a<b<c and (a**2 + b**2)==c**2:\n",
    "                cnt+=1\n",
    "    return cnt\n",
    "\n",
    "c=0    \n",
    "for L in range(1,1000):\n",
    "    if(num_triangle(L)==1):\n",
    "        c+=1\n",
    "print(c)"
   ]
  },
  {
   "attachments": {},
   "cell_type": "markdown",
   "metadata": {},
   "source": [
    "### Question 76"
   ]
  },
  {
   "cell_type": "code",
   "execution_count": 7,
   "metadata": {},
   "outputs": [
    {
     "data": {
      "text/plain": [
       "190569291"
      ]
     },
     "execution_count": 7,
     "metadata": {},
     "output_type": "execute_result"
    }
   ],
   "source": [
    "'''\"\n",
    "It is possible to write five as a sum in exactly six different ways:\n",
    "4 + 1\n",
    "3 + 2\n",
    "3 + 1 + 1\n",
    "2 + 2 + 1\n",
    "2 + 1 + 1 + 1\n",
    "1 + 1 + 1 + 1 + 1\n",
    "How many different ways can one hundred be written as a sum of at least two positive integers?\"\n",
    "'''\n",
    "\n",
    "def ways_q(num):\n",
    "    ns = range(1,num)\n",
    "    wys = [1] + [0]*num\n",
    "    \n",
    "    for n in ns:\n",
    "        for i in range(n,num+1):\n",
    "            wys[i] += wys[i-n]\n",
    "    return wys[num]\n",
    "\n",
    "ways_q(100)"
   ]
  },
  {
   "cell_type": "code",
   "execution_count": null,
   "metadata": {},
   "outputs": [],
   "source": []
  }
 ],
 "metadata": {
  "kernelspec": {
   "display_name": "Python 3",
   "language": "python",
   "name": "python3"
  },
  "language_info": {
   "codemirror_mode": {
    "name": "ipython",
    "version": 3
   },
   "file_extension": ".py",
   "mimetype": "text/x-python",
   "name": "python",
   "nbconvert_exporter": "python",
   "pygments_lexer": "ipython3",
   "version": "3.10.2"
  },
  "orig_nbformat": 4,
  "vscode": {
   "interpreter": {
    "hash": "369f2c481f4da34e4445cda3fffd2e751bd1c4d706f27375911949ba6bb62e1c"
   }
  }
 },
 "nbformat": 4,
 "nbformat_minor": 2
}
